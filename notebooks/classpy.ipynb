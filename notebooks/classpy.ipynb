{
 "cells": [
  {
   "cell_type": "code",
   "execution_count": 4,
   "metadata": {},
   "outputs": [],
   "source": [
    "#class SimpleClass:\n",
    " #   pass\n",
    "\n",
    "  #  myobj=SimpleClass()\n",
    "   "
   ]
  },
  {
   "cell_type": "code",
   "execution_count": 5,
   "metadata": {},
   "outputs": [
    {
     "name": "stdout",
     "output_type": "stream",
     "text": [
      "Student IT2305 Profile: name James Peter Course: IT\n",
      "Student IT2306 Profile: name James Peter Course: IT\n"
     ]
    }
   ],
   "source": [
    "class Student:\n",
    "    def __init__(self, id, nm, crs):\n",
    "        self.__id = id\n",
    "        self.__name = nm\n",
    "        self.__course = crs  \n",
    "\n",
    "    def profile(self):\n",
    "        print(\"Student\", self.__id, \"Profile: name\", self.__name, \"Course:\", self.__course)\n",
    "\n",
    "    def setId(self, id):\n",
    "        self.__id = id\n",
    "\n",
    "# Create an instance of the Student class\n",
    "peter = Student('IT2305', 'James Peter', 'IT')\n",
    "\n",
    "# Display the profile\n",
    "peter.profile()\n",
    "\n",
    "# Set the id\n",
    "peter.setId('IT2306')\n",
    "\n",
    "# Display the updated profile\n",
    "peter.profile()\n"
   ]
  },
  {
   "cell_type": "code",
   "execution_count": null,
   "metadata": {},
   "outputs": [],
   "source": []
  },
  {
   "cell_type": "code",
   "execution_count": null,
   "metadata": {},
   "outputs": [],
   "source": []
  }
 ],
 "metadata": {
  "kernelspec": {
   "display_name": "Python 3",
   "language": "python",
   "name": "python3"
  },
  "language_info": {
   "codemirror_mode": {
    "name": "ipython",
    "version": 3
   },
   "file_extension": ".py",
   "mimetype": "text/x-python",
   "name": "python",
   "nbconvert_exporter": "python",
   "pygments_lexer": "ipython3",
   "version": "3.10.13"
  }
 },
 "nbformat": 4,
 "nbformat_minor": 2
}
