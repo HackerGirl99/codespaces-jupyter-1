{
 "cells": [
  {
   "cell_type": "code",
   "execution_count": 18,
   "metadata": {},
   "outputs": [],
   "source": [
    "#class SimpleClass:\n",
    " #   pass\n",
    "\n",
    "  #  myobj=SimpleClass()\n",
    "   "
   ]
  },
  {
   "cell_type": "code",
   "execution_count": 19,
   "metadata": {},
   "outputs": [
    {
     "name": "stdout",
     "output_type": "stream",
     "text": [
      "Student IT2305 Profile: name James Peter Course: IT\n",
      "Student IT2306 Profile: name James Peter Course: IT\n"
     ]
    }
   ],
   "source": [
    "class Student:\n",
    "    def __init__(self, id, nm, crs):\n",
    "        self.__id = id\n",
    "        self.__name = nm\n",
    "        self.__course = crs  \n",
    "\n",
    "    def profile(self):\n",
    "        print(\"Student\", self.__id, \"Profile: name\", self.__name, \"Course:\", self.__course)\n",
    "\n",
    "    def setId(self, id):\n",
    "        self.__id = id\n",
    "\n",
    "# Create an instance of the Student class\n",
    "peter = Student('IT2305', 'James Peter', 'IT')\n",
    "\n",
    "# Display the profile\n",
    "peter.profile()\n",
    "\n",
    "# Set the id\n",
    "peter.setId('IT2306')\n",
    "\n",
    "# Display the updated profile\n",
    "peter.profile()\n"
   ]
  },
  {
   "cell_type": "code",
   "execution_count": 20,
   "metadata": {},
   "outputs": [
    {
     "name": "stdout",
     "output_type": "stream",
     "text": [
      "[10, 1, 30, 5]\n",
      "5\n",
      "30\n",
      "[10, 1]\n",
      "['A', 'B', 'C']\n"
     ]
    }
   ],
   "source": [
    "class Stack:\n",
    "    def __init__(self):\n",
    "        self.__mystack = []\n",
    "        \n",
    "    def push(self, ele):\n",
    "        self.__mystack.append(ele)\n",
    "\n",
    "    def pop(self):\n",
    "        if self.is_empty():\n",
    "            return \"Stack is empty\"\n",
    "        else:\n",
    "            lstEle = self.__mystack[-1]\n",
    "            del self.__mystack[-1]\n",
    "            return lstEle\n",
    "        \n",
    "    def printStack(self):\n",
    "        print(self.__mystack)\n",
    "\n",
    "    def is_empty(self):\n",
    "        return len(self.__mystack) == 0\n",
    "\n",
    "# Create an instance of the Stack class\n",
    "stack1 = Stack()\n",
    "\n",
    "# Push elements onto the stack\n",
    "stack1.push(10)\n",
    "stack1.push(1)\n",
    "stack1.push(30)\n",
    "stack1.push(5)\n",
    "\n",
    "# Print the stack\n",
    "stack1.printStack()\n",
    "\n",
    "# Pop elements from the stack\n",
    "print(stack1.pop())\n",
    "print(stack1.pop())\n",
    "\n",
    "# Print the stack after popping\n",
    "stack1.printStack()\n",
    "\n",
    "stackStr = Stack()\n",
    "stackStr.push('A')\n",
    "stackStr.push('B')\n",
    "stackStr.push('C')\n",
    "stackStr.printStack()\n",
    "   "
   ]
  },
  {
   "cell_type": "code",
   "execution_count": 21,
   "metadata": {},
   "outputs": [
    {
     "name": "stdout",
     "output_type": "stream",
     "text": [
      "My name is: Jimmy\n",
      "Woof !\n",
      "My name is: Danny\n",
      "Meow !\n"
     ]
    }
   ],
   "source": [
    "class Animal:\n",
    "    def __init__(self,name):\n",
    "        self.__name=name\n",
    "        print(\"My name is:\",name)\n",
    "\n",
    "    def make_sound(self):\n",
    "        pass\n",
    "\n",
    "class Dog(Animal):\n",
    "    def make_sound(self):\n",
    "        print('Woof !')\n",
    "\n",
    "class Cat(Animal):\n",
    "    def make_sound(self):\n",
    "        print('Meow !')\n",
    "\n",
    "dog=Dog('Jimmy')\n",
    "dog.make_sound()\n",
    "cat=Cat('Danny')\n",
    "cat.make_sound()\n",
    "\n"
   ]
  },
  {
   "cell_type": "code",
   "execution_count": 26,
   "metadata": {},
   "outputs": [
    {
     "name": "stdout",
     "output_type": "stream",
     "text": [
      "[10, 1, 30, 5]\n"
     ]
    },
    {
     "ename": "AttributeError",
     "evalue": "'Stack' object has no attribute 'count'",
     "output_type": "error",
     "traceback": [
      "\u001b[0;31m---------------------------------------------------------------------------\u001b[0m",
      "\u001b[0;31mAttributeError\u001b[0m                            Traceback (most recent call last)",
      "Cell \u001b[0;32mIn[26], line 48\u001b[0m\n\u001b[1;32m     46\u001b[0m \u001b[38;5;66;03m# Print the stack\u001b[39;00m\n\u001b[1;32m     47\u001b[0m stack1\u001b[38;5;241m.\u001b[39mprintStack()\n\u001b[0;32m---> 48\u001b[0m \u001b[43mstack1\u001b[49m\u001b[38;5;241;43m.\u001b[39;49m\u001b[43mcount\u001b[49m()\n\u001b[1;32m     49\u001b[0m \u001b[38;5;66;03m# Pop elements from the stack\u001b[39;00m\n\u001b[1;32m     50\u001b[0m \u001b[38;5;28mprint\u001b[39m(stack1\u001b[38;5;241m.\u001b[39mpop())\n",
      "\u001b[0;31mAttributeError\u001b[0m: 'Stack' object has no attribute 'count'"
     ]
    }
   ],
   "source": [
    "class Stack:\n",
    "    def __init__(self):\n",
    "        self.__mystack = []\n",
    "        \n",
    "    def push(self, ele):\n",
    "        self.__mystack.append(ele)\n",
    "\n",
    "    def pop(self):\n",
    "        if self.is_empty():\n",
    "            return \"Stack is empty\"\n",
    "        else:\n",
    "            lstEle = self.__mystack[-1]\n",
    "            del self.__mystack[-1]\n",
    "            return lstEle\n",
    "        \n",
    "    def printStack(self):\n",
    "        print(self.__mystack)\n",
    "\n",
    "    def is_empty(self):\n",
    "        return len(self.__mystack) == 0\n",
    "\n",
    "class TrackStack(Stack):\n",
    "    def __init__(self):\n",
    "        Stack.__init__(self)\n",
    "        self.__t=0\n",
    "\n",
    "    def push(self,ele):\n",
    "        self.__t += 1\n",
    "        Stack.push(ele)\n",
    "\n",
    "    def pop(self):\n",
    "        self.__t -=1\n",
    "        Stack.pop()\n",
    "\n",
    "    def count(self):\n",
    "        return self.__t\n",
    "\n",
    "# Create an instance of the Stack class\n",
    "stack1 = Stack()\n",
    "# Push elements onto the stack\n",
    "stack1.push(10)\n",
    "stack1.push(1)\n",
    "stack1.push(30)\n",
    "stack1.push(5)\n",
    "\n",
    "# Print the stack\n",
    "stack1.printStack()\n",
    "stack1.count()\n",
    "# Pop elements from the stack\n",
    "print(stack1.pop())\n",
    "print(stack1.pop())\n",
    "\n",
    "# Print the stack after popping\n",
    "stack1.printStack()\n",
    "stack1.count()\n",
    "\n",
    "\n"
   ]
  },
  {
   "cell_type": "code",
   "execution_count": 24,
   "metadata": {},
   "outputs": [
    {
     "name": "stdout",
     "output_type": "stream",
     "text": [
      "[10, 1, 30, 5]\n",
      "4\n",
      "None\n",
      "None\n",
      "[10, 1]\n",
      "2\n",
      "['A', 'B', 'C']\n"
     ]
    }
   ],
   "source": [
    "class Stack:\n",
    "    def __init__(self):\n",
    "        self.__mystack = []\n",
    "        \n",
    "    def push(self, ele):\n",
    "        self.__mystack.append(ele)\n",
    "\n",
    "    def pop(self):\n",
    "        if self.is_empty():\n",
    "            return \"Stack is empty\"\n",
    "        else:\n",
    "            lstEle = self.__mystack[-1]\n",
    "            del self.__mystack[-1]\n",
    "            return lstEle\n",
    "        \n",
    "    def printStack(self):\n",
    "        print(self.__mystack)\n",
    "\n",
    "    def is_empty(self):\n",
    "        return len(self.__mystack) == 0\n",
    "\n",
    "class TrackStack(Stack):\n",
    "    def __init__(self):\n",
    "        super().__init__()\n",
    "        self.__t = 0\n",
    "\n",
    "    def push(self, ele):\n",
    "        super().push(ele)\n",
    "        self.__t += 1\n",
    "\n",
    "    def pop(self):\n",
    "        super().pop()\n",
    "        self.__t -= 1\n",
    "\n",
    "    def count(self):\n",
    "        return self.__t\n",
    "\n",
    "# Create an instance of the TrackStack class\n",
    "stack1 = TrackStack()\n",
    "\n",
    "# Push elements onto the stack\n",
    "stack1.push(10)\n",
    "stack1.push(1)\n",
    "stack1.push(30)\n",
    "stack1.push(5)\n",
    "\n",
    "# Print the stack\n",
    "stack1.printStack()\n",
    "\n",
    "# Get the count of elements in the stack\n",
    "print(stack1.count())\n",
    "\n",
    "# Pop elements from the stack\n",
    "print(stack1.pop())\n",
    "print(stack1.pop())\n",
    "\n",
    "# Print the stack after popping\n",
    "stack1.printStack()\n",
    "\n",
    "# Get the count of elements in the stack after popping\n",
    "print(stack1.count())\n",
    "\n",
    "# Create another instance of the Stack class\n",
    "stackStr = Stack()\n",
    "stackStr.push('A')\n",
    "stackStr.push('B')\n",
    "stackStr.push('C')\n",
    "stackStr.printStack()\n"
   ]
  },
  {
   "cell_type": "code",
   "execution_count": null,
   "metadata": {},
   "outputs": [],
   "source": []
  },
  {
   "cell_type": "code",
   "execution_count": null,
   "metadata": {},
   "outputs": [],
   "source": []
  },
  {
   "cell_type": "code",
   "execution_count": null,
   "metadata": {},
   "outputs": [],
   "source": []
  }
 ],
 "metadata": {
  "kernelspec": {
   "display_name": "Python 3",
   "language": "python",
   "name": "python3"
  },
  "language_info": {
   "codemirror_mode": {
    "name": "ipython",
    "version": 3
   },
   "file_extension": ".py",
   "mimetype": "text/x-python",
   "name": "python",
   "nbconvert_exporter": "python",
   "pygments_lexer": "ipython3",
   "version": "3.10.13"
  }
 },
 "nbformat": 4,
 "nbformat_minor": 2
}
