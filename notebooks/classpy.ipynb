{
 "cells": [
  {
   "cell_type": "code",
   "execution_count": 4,
   "metadata": {},
   "outputs": [],
   "source": [
    "#class SimpleClass:\n",
    " #   pass\n",
    "\n",
    "  #  myobj=SimpleClass()\n",
    "   "
   ]
  },
  {
   "cell_type": "code",
   "execution_count": 5,
   "metadata": {},
   "outputs": [
    {
     "name": "stdout",
     "output_type": "stream",
     "text": [
      "Student IT2305 Profile: name James Peter Course: IT\n",
      "Student IT2306 Profile: name James Peter Course: IT\n"
     ]
    }
   ],
   "source": [
    "class Student:\n",
    "    def __init__(self, id, nm, crs):\n",
    "        self.__id = id\n",
    "        self.__name = nm\n",
    "        self.__course = crs  \n",
    "\n",
    "    def profile(self):\n",
    "        print(\"Student\", self.__id, \"Profile: name\", self.__name, \"Course:\", self.__course)\n",
    "\n",
    "    def setId(self, id):\n",
    "        self.__id = id\n",
    "\n",
    "# Create an instance of the Student class\n",
    "peter = Student('IT2305', 'James Peter', 'IT')\n",
    "\n",
    "# Display the profile\n",
    "peter.profile()\n",
    "\n",
    "# Set the id\n",
    "peter.setId('IT2306')\n",
    "\n",
    "# Display the updated profile\n",
    "peter.profile()\n"
   ]
  },
  {
   "cell_type": "code",
   "execution_count": 7,
   "metadata": {},
   "outputs": [
    {
     "name": "stdout",
     "output_type": "stream",
     "text": [
      "[10, 1, 30, 5]\n",
      "5\n",
      "30\n",
      "[10, 1]\n"
     ]
    }
   ],
   "source": [
    "class Stack:\n",
    "    def __init__(self):\n",
    "        self.__mystack = []\n",
    "        \n",
    "    def push(self, ele):\n",
    "        self.__mystack.append(ele)\n",
    "\n",
    "    def pop(self):\n",
    "        if self.is_empty():\n",
    "            return \"Stack is empty\"\n",
    "        else:\n",
    "            lstEle = self.__mystack[-1]\n",
    "            del self.__mystack[-1]\n",
    "            return lstEle\n",
    "        \n",
    "    def printStack(self):\n",
    "        print(self.__mystack)\n",
    "\n",
    "    def is_empty(self):\n",
    "        return len(self.__mystack) == 0\n",
    "\n",
    "# Create an instance of the Stack class\n",
    "stack1 = Stack()\n",
    "\n",
    "# Push elements onto the stack\n",
    "stack1.push(10)\n",
    "stack1.push(1)\n",
    "stack1.push(30)\n",
    "stack1.push(5)\n",
    "\n",
    "# Print the stack\n",
    "stack1.printStack()\n",
    "\n",
    "# Pop elements from the stack\n",
    "print(stack1.pop())\n",
    "print(stack1.pop())\n",
    "\n",
    "# Print the stack after popping\n",
    "stack1.printStack()\n",
    "\n",
    "\n",
    "   \n",
    "   "
   ]
  },
  {
   "cell_type": "code",
   "execution_count": null,
   "metadata": {},
   "outputs": [],
   "source": []
  }
 ],
 "metadata": {
  "kernelspec": {
   "display_name": "Python 3",
   "language": "python",
   "name": "python3"
  },
  "language_info": {
   "codemirror_mode": {
    "name": "ipython",
    "version": 3
   },
   "file_extension": ".py",
   "mimetype": "text/x-python",
   "name": "python",
   "nbconvert_exporter": "python",
   "pygments_lexer": "ipython3",
   "version": "3.10.13"
  }
 },
 "nbformat": 4,
 "nbformat_minor": 2
}
